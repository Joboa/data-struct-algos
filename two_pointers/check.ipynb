{
 "cells": [
  {
   "cell_type": "code",
   "execution_count": 11,
   "metadata": {},
   "outputs": [
    {
     "name": "stdout",
     "output_type": "stream",
     "text": [
      "[[-1, 0, 1], [-1, -1, 2]]\n"
     ]
    }
   ],
   "source": [
    "# Input: nums = [-1,0,1,2,-1,-4]\n",
    "\n",
    "# Output: [[-1,-1,2],[-1,0,1]]\n",
    "\n",
    "from typing import List\n",
    "def threeSum(nums: List[int]) -> List[List[int]]:\n",
    "    results = set()\n",
    "    \n",
    "    for i in range(len(nums)):\n",
    "        for j in range(i + 1, len(nums)):\n",
    "            tmp = - nums[i] - nums[j]\n",
    "            if tmp in nums[j + 1:]:\n",
    "                triplets = tuple(sorted([nums[i], nums[j], tmp]))\n",
    "                results.add(triplets)\n",
    "    return [list(triplet) for triplet in results]\n",
    "\n",
    "nums = [-1,0,1,2,-1,-4]\n",
    "print(threeSum(nums))"
   ]
  },
  {
   "cell_type": "code",
   "execution_count": 12,
   "metadata": {},
   "outputs": [
    {
     "name": "stdout",
     "output_type": "stream",
     "text": [
      "[7, 2, 5, 4, 7, 3, 6, 14, 35, 28, 49, 21, 42, 10, 8, 14, 6, 12, 20, 35, 15, 30, 28, 12, 24, 21, 42, 18]\n"
     ]
    }
   ],
   "source": [
    "height = [1,7,2,5,4,7,3,6]\n",
    "\n",
    "# You are given an integer array heights where heights[i] \n",
    "# represents the height of the ith bar\n",
    "\n",
    "# You may choose any two bars to form a container. \n",
    "# Return the maximum amount of water a container can store.\n",
    "\n",
    "from collections import defaultdict\n",
    "results = []\n",
    "\n",
    "for i in range(len(height)):\n",
    "    for j in range(i + 1, len(height)):\n",
    "        amt_water = height[i] * height[j]\n",
    "        results.append(amt_water)\n",
    "\n",
    "\n",
    "print(results)\n",
    "\n",
    "# Input: height = [1,7,2,5,4,7,3,6]\n",
    "\n",
    "# Output: 36\n"
   ]
  },
  {
   "cell_type": "code",
   "execution_count": null,
   "metadata": {},
   "outputs": [],
   "source": [
    "height = [1, 7, 2, 5, 4, 7, 3, 6]\n",
    "max_water = 0\n",
    "\n",
    "for i in range(len(height)):\n",
    "    for j in range(i + 1, len(height)):\n",
    "        amt_water = min(height[i], height[j]) * (j - i)\n",
    "        max_water = max(max_water, amt_water)\n",
    "\n",
    "print(max_water)\n"
   ]
  }
 ],
 "metadata": {
  "kernelspec": {
   "display_name": "base",
   "language": "python",
   "name": "python3"
  },
  "language_info": {
   "codemirror_mode": {
    "name": "ipython",
    "version": 3
   },
   "file_extension": ".py",
   "mimetype": "text/x-python",
   "name": "python",
   "nbconvert_exporter": "python",
   "pygments_lexer": "ipython3",
   "version": "3.12.7"
  }
 },
 "nbformat": 4,
 "nbformat_minor": 2
}
