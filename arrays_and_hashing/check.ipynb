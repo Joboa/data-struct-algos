{
 "cells": [
  {
   "cell_type": "code",
   "execution_count": 2,
   "metadata": {},
   "outputs": [
    {
     "name": "stdout",
     "output_type": "stream",
     "text": [
      "{4: 0, 5: 1, 6: 2}\n"
     ]
    }
   ],
   "source": [
    "cars = {\n",
    "}\n",
    "\n",
    "nums = list(range(4, 7))\n",
    "for i, n in enumerate(nums):\n",
    "    cars[n] = i\n",
    "print(cars)"
   ]
  },
  {
   "cell_type": "code",
   "execution_count": 4,
   "metadata": {},
   "outputs": [
    {
     "name": "stdout",
     "output_type": "stream",
     "text": [
      "1\n"
     ]
    }
   ],
   "source": [
    "num = 5\n",
    "if num in cars:\n",
    "    print(cars[num])"
   ]
  },
  {
   "cell_type": "code",
   "execution_count": 3,
   "metadata": {},
   "outputs": [
    {
     "name": "stdout",
     "output_type": "stream",
     "text": [
      "[['a']]\n"
     ]
    }
   ],
   "source": [
    "def to_list(c):\n",
    "    all_list = []\n",
    "    all_list.append(c)\n",
    "    return all_list\n",
    "\n",
    "\n",
    "a = [\"a\"]\n",
    "b = to_list(a)\n",
    "print(b)  # None"
   ]
  },
  {
   "cell_type": "code",
   "execution_count": 44,
   "metadata": {},
   "outputs": [
    {
     "name": "stdout",
     "output_type": "stream",
     "text": [
      "{'act': ['act', 'cat'], 'opst': ['pots', 'tops', 'stop'], 'aht': ['hat']}\n"
     ]
    }
   ],
   "source": [
    "strs = [\"act\",\"pots\",\"tops\",\"cat\",\"stop\",\"hat\"]\n",
    "\n",
    "word_dict = {}\n",
    "\n",
    "for i, word in enumerate(strs):\n",
    "    word_s = \"\".join(sorted(word))\n",
    "    if word_s in word_dict:\n",
    "        word_dict[word_s].append(strs[i])\n",
    "    else:\n",
    "        word_dict[word_s] = [strs[i]]\n",
    "        \n",
    "print(word_dict)"
   ]
  },
  {
   "cell_type": "code",
   "execution_count": 49,
   "metadata": {},
   "outputs": [
    {
     "name": "stdout",
     "output_type": "stream",
     "text": [
      "[['act', 'cat'], ['hat'], ['pots', 'tops', 'stop']]\n"
     ]
    }
   ],
   "source": [
    "print(list(sorted(word_dict.values())))"
   ]
  },
  {
   "cell_type": "code",
   "execution_count": 50,
   "metadata": {},
   "outputs": [
    {
     "name": "stdout",
     "output_type": "stream",
     "text": [
      "defaultdict(<class 'list'>, {})\n"
     ]
    }
   ],
   "source": [
    "from collections import defaultdict\n",
    "\n",
    "res = defaultdict(list)\n",
    "print(res)"
   ]
  },
  {
   "cell_type": "code",
   "execution_count": 51,
   "metadata": {},
   "outputs": [
    {
     "name": "stdout",
     "output_type": "stream",
     "text": [
      "[0, 0, 0, 0, 0, 0, 0, 0, 0, 0, 0, 0, 0, 0, 0, 0, 0, 0, 0, 0, 0, 0, 0, 0, 0, 0]\n"
     ]
    }
   ],
   "source": [
    "count = [0] * 26\n",
    "print(count)"
   ]
  },
  {
   "cell_type": "code",
   "execution_count": 60,
   "metadata": {},
   "outputs": [
    {
     "name": "stdout",
     "output_type": "stream",
     "text": [
      "defaultdict(<class 'int'>, {'a': 2, 'n': 1, 'o': 1, 'm': 1, 'l': 2, 'y': 1})\n"
     ]
    }
   ],
   "source": [
    "from collections import defaultdict\n",
    "\n",
    "res = defaultdict(int)\n",
    "\n",
    "word = \"anomally\"\n",
    "\n",
    "for c in word:\n",
    "    res[c] += 1\n",
    "print(res)\n",
    "\n"
   ]
  },
  {
   "cell_type": "code",
   "execution_count": 82,
   "metadata": {},
   "outputs": [
    {
     "name": "stdout",
     "output_type": "stream",
     "text": [
      "defaultdict(<class 'int'>, {1: 1, 2: 2, 3: 3})\n"
     ]
    }
   ],
   "source": [
    "nums = [1,2,2,3,3,3]\n",
    "from collections import defaultdict\n",
    "results = defaultdict(int)\n",
    "# results = {}\n",
    "\n",
    "# for num in nums:\n",
    "#     if num not in results:\n",
    "#         results[num] = 0\n",
    "#     results[num] += 1\n",
    "\n",
    "for num in nums:\n",
    "    results[num] +=1\n",
    "\n",
    "print(results)"
   ]
  },
  {
   "cell_type": "code",
   "execution_count": 88,
   "metadata": {},
   "outputs": [
    {
     "name": "stdout",
     "output_type": "stream",
     "text": [
      "The key with the maximum value is 1 and the maximum value is 3\n"
     ]
    }
   ],
   "source": [
    "def topKFrequent(self, nums: List[int], k: int) -> List[int]:\n",
    "    count = {}\n",
    "    freq = [[] for i in range(len(nums) + 1)]\n",
    "\n",
    "    for num in nums:\n",
    "        count[num] = 1 + count.get(num, 0)\n",
    "    for num, cnt in count.items():\n",
    "        freq[cnt].append(num)\n",
    "        \n",
    "    res = []\n",
    "    for i in range(len(freq) - 1, 0, -1):\n",
    "        for num in freq[i]:\n",
    "            res.append(num)\n",
    "            if len(res) == k:\n",
    "                return res\n"
   ]
  },
  {
   "cell_type": "code",
   "execution_count": 93,
   "metadata": {},
   "outputs": [
    {
     "name": "stdout",
     "output_type": "stream",
     "text": [
      "[[], [], [], [], [], [], []]\n",
      "{1: 1, 2: 2, 3: 3}\n"
     ]
    }
   ],
   "source": []
  },
  {
   "cell_type": "code",
   "execution_count": 3,
   "metadata": {},
   "outputs": [
    {
     "name": "stdout",
     "output_type": "stream",
     "text": [
      "[0, 1, 2, 3, 4, 5, 6]\n"
     ]
    }
   ],
   "source": [
    "nums = [0,3,2,5,4,6,1,1]\n",
    "# nums = [2,20,4,10,3,4,5]\n",
    "\n",
    "c = sorted(set(nums))\n",
    "\n",
    "con_seq = [] # Recommend output [2,3,4,5]\n",
    "\n",
    "for i in range(len(c) - 1):\n",
    "    if c[i + 1] - c[i] == 1:\n",
    "        if c[i] not in con_seq:\n",
    "            con_seq.append(c[i])\n",
    "        con_seq.append(c[i+1]) \n",
    "print(con_seq)"
   ]
  }
 ],
 "metadata": {
  "kernelspec": {
   "display_name": "base",
   "language": "python",
   "name": "python3"
  },
  "language_info": {
   "codemirror_mode": {
    "name": "ipython",
    "version": 3
   },
   "file_extension": ".py",
   "mimetype": "text/x-python",
   "name": "python",
   "nbconvert_exporter": "python",
   "pygments_lexer": "ipython3",
   "version": "3.12.7"
  }
 },
 "nbformat": 4,
 "nbformat_minor": 2
}
